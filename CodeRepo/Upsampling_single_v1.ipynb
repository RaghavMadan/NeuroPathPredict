{
 "cells": [
  {
   "cell_type": "code",
   "execution_count": 15,
   "id": "55b497d1",
   "metadata": {},
   "outputs": [
    {
     "ename": "ImportError",
     "evalue": "cannot import name 'get_ants_data' from 'ants' (/Users/raghav_m/opt/anaconda3/lib/python3.8/site-packages/ants/__init__.py)",
     "output_type": "error",
     "traceback": [
      "\u001b[0;31m---------------------------------------------------------------------------\u001b[0m",
      "\u001b[0;31mImportError\u001b[0m                               Traceback (most recent call last)",
      "\u001b[0;32m/var/folders/5x/tckh2qyj2vb_8rv_m0ky_wb00000gp/T/ipykernel_55234/172294800.py\u001b[0m in \u001b[0;36m<module>\u001b[0;34m\u001b[0m\n\u001b[0;32m----> 1\u001b[0;31m \u001b[0;32mfrom\u001b[0m \u001b[0mants\u001b[0m \u001b[0;32mimport\u001b[0m \u001b[0mget_ants_data\u001b[0m\u001b[0;34m,\u001b[0m \u001b[0mimage_read\u001b[0m\u001b[0;34m,\u001b[0m \u001b[0mresample_image\u001b[0m\u001b[0;34m,\u001b[0m \u001b[0mget_mask\u001b[0m\u001b[0;34m\u001b[0m\u001b[0;34m\u001b[0m\u001b[0m\n\u001b[0m",
      "\u001b[0;31mImportError\u001b[0m: cannot import name 'get_ants_data' from 'ants' (/Users/raghav_m/opt/anaconda3/lib/python3.8/site-packages/ants/__init__.py)"
     ]
    }
   ],
   "source": [
    "from ants import get_ants_data, image_read, resample_image, get_mask"
   ]
  },
  {
   "cell_type": "code",
   "execution_count": 14,
   "id": "6801eb32",
   "metadata": {},
   "outputs": [
    {
     "name": "stdout",
     "output_type": "stream",
     "text": [
      "Requirement already satisfied: pandas in /Users/raghav_m/opt/anaconda3/lib/python3.8/site-packages (1.4.1)\n",
      "Requirement already satisfied: python-dateutil>=2.8.1 in /Users/raghav_m/opt/anaconda3/lib/python3.8/site-packages (from pandas) (2.8.2)\n",
      "Requirement already satisfied: pytz>=2020.1 in /Users/raghav_m/opt/anaconda3/lib/python3.8/site-packages (from pandas) (2021.3)\n",
      "Requirement already satisfied: numpy>=1.18.5 in /Users/raghav_m/opt/anaconda3/lib/python3.8/site-packages (from pandas) (1.21.2)\n",
      "Requirement already satisfied: six>=1.5 in /Users/raghav_m/opt/anaconda3/lib/python3.8/site-packages (from python-dateutil>=2.8.1->pandas) (1.16.0)\n",
      "Requirement already satisfied: pyyaml in /Users/raghav_m/opt/anaconda3/lib/python3.8/site-packages (6.0)\n",
      "Requirement already satisfied: sklearn in /Users/raghav_m/opt/anaconda3/lib/python3.8/site-packages (0.0)\n",
      "Requirement already satisfied: scikit-learn in /Users/raghav_m/opt/anaconda3/lib/python3.8/site-packages (from sklearn) (0.23.2)\n",
      "Requirement already satisfied: scipy>=0.19.1 in /Users/raghav_m/opt/anaconda3/lib/python3.8/site-packages (from scikit-learn->sklearn) (1.7.3)\n",
      "Requirement already satisfied: joblib>=0.11 in /Users/raghav_m/opt/anaconda3/lib/python3.8/site-packages (from scikit-learn->sklearn) (1.1.0)\n",
      "Requirement already satisfied: threadpoolctl>=2.0.0 in /Users/raghav_m/opt/anaconda3/lib/python3.8/site-packages (from scikit-learn->sklearn) (2.2.0)\n",
      "Requirement already satisfied: numpy>=1.13.3 in /Users/raghav_m/opt/anaconda3/lib/python3.8/site-packages (from scikit-learn->sklearn) (1.21.2)\n",
      "Requirement already satisfied: numpy in /Users/raghav_m/opt/anaconda3/lib/python3.8/site-packages (1.21.2)\n",
      "Requirement already satisfied: scikit-image in /Users/raghav_m/opt/anaconda3/lib/python3.8/site-packages (0.18.3)\n",
      "Requirement already satisfied: numpy>=1.16.5 in /Users/raghav_m/opt/anaconda3/lib/python3.8/site-packages (from scikit-image) (1.21.2)\n",
      "Requirement already satisfied: scipy>=1.0.1 in /Users/raghav_m/opt/anaconda3/lib/python3.8/site-packages (from scikit-image) (1.7.3)\n",
      "Requirement already satisfied: matplotlib!=3.0.0,>=2.0.0 in /Users/raghav_m/opt/anaconda3/lib/python3.8/site-packages (from scikit-image) (3.4.3)\n",
      "Requirement already satisfied: networkx>=2.0 in /Users/raghav_m/opt/anaconda3/lib/python3.8/site-packages (from scikit-image) (2.6.3)\n",
      "Requirement already satisfied: pillow!=7.1.0,!=7.1.1,>=4.3.0 in /Users/raghav_m/opt/anaconda3/lib/python3.8/site-packages (from scikit-image) (9.0.1)\n",
      "Requirement already satisfied: imageio>=2.3.0 in /Users/raghav_m/opt/anaconda3/lib/python3.8/site-packages (from scikit-image) (2.9.0)\n",
      "Requirement already satisfied: tifffile>=2019.7.26 in /Users/raghav_m/opt/anaconda3/lib/python3.8/site-packages (from scikit-image) (2021.7.2)\n",
      "Requirement already satisfied: PyWavelets>=1.1.1 in /Users/raghav_m/opt/anaconda3/lib/python3.8/site-packages (from scikit-image) (1.1.1)\n",
      "Requirement already satisfied: kiwisolver>=1.0.1 in /Users/raghav_m/opt/anaconda3/lib/python3.8/site-packages (from matplotlib!=3.0.0,>=2.0.0->scikit-image) (1.3.2)\n",
      "Requirement already satisfied: pyparsing>=2.2.1 in /Users/raghav_m/opt/anaconda3/lib/python3.8/site-packages (from matplotlib!=3.0.0,>=2.0.0->scikit-image) (3.0.4)\n",
      "Requirement already satisfied: python-dateutil>=2.7 in /Users/raghav_m/opt/anaconda3/lib/python3.8/site-packages (from matplotlib!=3.0.0,>=2.0.0->scikit-image) (2.8.2)\n",
      "Requirement already satisfied: cycler>=0.10 in /Users/raghav_m/opt/anaconda3/lib/python3.8/site-packages (from matplotlib!=3.0.0,>=2.0.0->scikit-image) (0.11.0)\n",
      "Requirement already satisfied: six>=1.5 in /Users/raghav_m/opt/anaconda3/lib/python3.8/site-packages (from python-dateutil>=2.7->matplotlib!=3.0.0,>=2.0.0->scikit-image) (1.16.0)\n",
      "Requirement already satisfied: scikit-learn in /Users/raghav_m/opt/anaconda3/lib/python3.8/site-packages (0.23.2)\n",
      "Requirement already satisfied: threadpoolctl>=2.0.0 in /Users/raghav_m/opt/anaconda3/lib/python3.8/site-packages (from scikit-learn) (2.2.0)\n",
      "Requirement already satisfied: numpy>=1.13.3 in /Users/raghav_m/opt/anaconda3/lib/python3.8/site-packages (from scikit-learn) (1.21.2)\n",
      "Requirement already satisfied: scipy>=0.19.1 in /Users/raghav_m/opt/anaconda3/lib/python3.8/site-packages (from scikit-learn) (1.7.3)\n",
      "Requirement already satisfied: joblib>=0.11 in /Users/raghav_m/opt/anaconda3/lib/python3.8/site-packages (from scikit-learn) (1.1.0)\n",
      "Requirement already satisfied: statsmodels in /Users/raghav_m/opt/anaconda3/lib/python3.8/site-packages (0.13.0)\n",
      "Requirement already satisfied: patsy>=0.5.2 in /Users/raghav_m/opt/anaconda3/lib/python3.8/site-packages (from statsmodels) (0.5.2)\n",
      "Requirement already satisfied: numpy>=1.17 in /Users/raghav_m/opt/anaconda3/lib/python3.8/site-packages (from statsmodels) (1.21.2)\n",
      "Requirement already satisfied: scipy>=1.3 in /Users/raghav_m/opt/anaconda3/lib/python3.8/site-packages (from statsmodels) (1.7.3)\n",
      "Requirement already satisfied: pandas>=0.25 in /Users/raghav_m/opt/anaconda3/lib/python3.8/site-packages (from statsmodels) (1.4.1)\n",
      "Requirement already satisfied: python-dateutil>=2.8.1 in /Users/raghav_m/opt/anaconda3/lib/python3.8/site-packages (from pandas>=0.25->statsmodels) (2.8.2)\n",
      "Requirement already satisfied: pytz>=2020.1 in /Users/raghav_m/opt/anaconda3/lib/python3.8/site-packages (from pandas>=0.25->statsmodels) (2021.3)\n",
      "Requirement already satisfied: six in /Users/raghav_m/opt/anaconda3/lib/python3.8/site-packages (from patsy>=0.5.2->statsmodels) (1.16.0)\n",
      "Requirement already satisfied: webcolors in /Users/raghav_m/opt/anaconda3/lib/python3.8/site-packages (1.12)\n",
      "Requirement already satisfied: matplotlib in /Users/raghav_m/opt/anaconda3/lib/python3.8/site-packages (3.4.3)\n",
      "Requirement already satisfied: pyparsing>=2.2.1 in /Users/raghav_m/opt/anaconda3/lib/python3.8/site-packages (from matplotlib) (3.0.4)\n",
      "Requirement already satisfied: cycler>=0.10 in /Users/raghav_m/opt/anaconda3/lib/python3.8/site-packages (from matplotlib) (0.11.0)\n",
      "Requirement already satisfied: numpy>=1.16 in /Users/raghav_m/opt/anaconda3/lib/python3.8/site-packages (from matplotlib) (1.21.2)\n",
      "Requirement already satisfied: python-dateutil>=2.7 in /Users/raghav_m/opt/anaconda3/lib/python3.8/site-packages (from matplotlib) (2.8.2)\n",
      "Requirement already satisfied: kiwisolver>=1.0.1 in /Users/raghav_m/opt/anaconda3/lib/python3.8/site-packages (from matplotlib) (1.3.2)\n",
      "Requirement already satisfied: pillow>=6.2.0 in /Users/raghav_m/opt/anaconda3/lib/python3.8/site-packages (from matplotlib) (9.0.1)\n",
      "Requirement already satisfied: six>=1.5 in /Users/raghav_m/opt/anaconda3/lib/python3.8/site-packages (from python-dateutil>=2.7->matplotlib) (1.16.0)\n",
      "Requirement already satisfied: Pillow in /Users/raghav_m/opt/anaconda3/lib/python3.8/site-packages (9.0.1)\n",
      "Requirement already satisfied: nibabel in /Users/raghav_m/opt/anaconda3/lib/python3.8/site-packages (3.2.2)\n",
      "Requirement already satisfied: setuptools in /Users/raghav_m/opt/anaconda3/lib/python3.8/site-packages (from nibabel) (58.0.4)\n",
      "Requirement already satisfied: numpy>=1.14 in /Users/raghav_m/opt/anaconda3/lib/python3.8/site-packages (from nibabel) (1.21.2)\n",
      "Requirement already satisfied: packaging>=14.3 in /Users/raghav_m/opt/anaconda3/lib/python3.8/site-packages (from nibabel) (21.0)\n",
      "Requirement already satisfied: pyparsing>=2.0.2 in /Users/raghav_m/opt/anaconda3/lib/python3.8/site-packages (from packaging>=14.3->nibabel) (3.0.4)\n"
     ]
    }
   ],
   "source": [
    "import sys\n",
    "!{sys.executable} -m pip install pandas\n",
    "!{sys.executable} -m pip install pyyaml\n",
    "!{sys.executable} -m pip install sklearn\n",
    "!{sys.executable} -m pip install numpy\n",
    "!{sys.executable} -m pip install scikit-image\n",
    "!{sys.executable} -m pip install scikit-learn\n",
    "!{sys.executable} -m pip install statsmodels\n",
    "!{sys.executable} -m pip install webcolors\n",
    "!{sys.executable} -m pip install matplotlib\n",
    "!{sys.executable} -m pip install Pillow\n",
    "!{sys.executable} -m pip install nibabel"
   ]
  }
 ],
 "metadata": {
  "kernelspec": {
   "display_name": "Python 3 (ipykernel)",
   "language": "python",
   "name": "python3"
  },
  "language_info": {
   "codemirror_mode": {
    "name": "ipython",
    "version": 3
   },
   "file_extension": ".py",
   "mimetype": "text/x-python",
   "name": "python",
   "nbconvert_exporter": "python",
   "pygments_lexer": "ipython3",
   "version": "3.8.12"
  }
 },
 "nbformat": 4,
 "nbformat_minor": 5
}

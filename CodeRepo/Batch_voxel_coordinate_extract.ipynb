{
 "cells": [
  {
   "cell_type": "code",
   "execution_count": 1,
   "id": "5350deae",
   "metadata": {},
   "outputs": [],
   "source": [
    "import nilearn\n",
    "from nilearn import image\n",
    "import numpy as np\n",
    "import pandas as pd\n",
    "import math\n",
    "import gc"
   ]
  },
  {
   "cell_type": "code",
   "execution_count": 2,
   "id": "4dd0484e",
   "metadata": {},
   "outputs": [],
   "source": [
    "#Inputs\n",
    "input_file = \"/Volumes/GoogleDrive/My Drive/UW /Brain Path map/BVIS/VOI atlas/WMT_HCP_YA1065_tractography/nifti/association/C_FP_L.nii.gz\"\n",
    "#filename_csv = \"MNI_152_2009a_wm.csv\"\n",
    "\n",
    "filename_txt = \"WMT_MNI_2009b_C_FP_L.txt\"\n",
    "\n",
    "key1 = \"WMT_C_FP_L_int\""
   ]
  },
  {
   "cell_type": "code",
   "execution_count": 4,
   "id": "301f4dda",
   "metadata": {},
   "outputs": [
    {
     "name": "stdout",
     "output_type": "stream",
     "text": [
      "/Volumes/GoogleDrive/My Drive/UW /Brain Path map/BVIS/VOI atlas/WMT_HCP_YA1065_tractography/nifti/association/C_FP_L\n",
      "WMT_MNI_2009b_/Volumes/GoogleDrive/My Drive/UW /Brain Path map/BVIS/VOI atlas/WMT_HCP_YA1065_tractography/nifti/association/C_FP_L.txt\n"
     ]
    }
   ],
   "source": [
    "name = input_file.split('.nii.gz')[0]\n",
    "print(name)\n",
    "filename_txt = f'WMT_MNI_2009b_{name}.txt'\n",
    "print(filename_txt)"
   ]
  },
  {
   "cell_type": "code",
   "execution_count": 25,
   "id": "348bca9e",
   "metadata": {},
   "outputs": [
    {
     "name": "stderr",
     "output_type": "stream",
     "text": [
      "/var/folders/5x/tckh2qyj2vb_8rv_m0ky_wb00000gp/T/ipykernel_66103/2979440676.py:3: DeprecationWarning: get_data() is deprecated in favor of get_fdata(), which has a more predictable return type. To obtain get_data() behavior going forward, use numpy.asanyarray(img.dataobj).\n",
      "\n",
      "* deprecated from version: 3.0\n",
      "* Will raise <class 'nibabel.deprecator.ExpiredDeprecationError'> as of version: 5.0\n",
      "  data_obj = a.get_data()\n"
     ]
    }
   ],
   "source": [
    "#Loading MNI file\n",
    "a = nilearn.image.load_img(input_file, wildcards=True, dtype=None)\n",
    "data_obj = a.get_data()"
   ]
  },
  {
   "cell_type": "code",
   "execution_count": 26,
   "id": "76cc9185",
   "metadata": {},
   "outputs": [
    {
     "name": "stdout",
     "output_type": "stream",
     "text": [
      "(314, 378, 272)\n",
      "False\n",
      "False\n",
      "False\n"
     ]
    }
   ],
   "source": [
    "##Validating shape of MNI image\n",
    "print(data_obj.shape)\n",
    "check_shape = data_obj.shape\n",
    "valid_dims = [197,233,189]\n",
    "n_for_check = len(valid_dims)\n",
    "for k, l in zip(check_shape[:n_for_check], valid_dims):\n",
    "    print(k==l)\n"
   ]
  },
  {
   "cell_type": "code",
   "execution_count": 27,
   "id": "36dd2afd",
   "metadata": {},
   "outputs": [
    {
     "name": "stdout",
     "output_type": "stream",
     "text": [
      "0 156 188 135\n",
      "0\n"
     ]
    }
   ],
   "source": [
    "\n",
    "n_i, n_j, n_k = data_obj.shape\n",
    "center_i = (n_i - 1) // 2  # // for integer division\n",
    "center_j = (n_j - 1) // 2\n",
    "center_k = (n_k - 1) // 2\n",
    "center_i, center_j, center_k\n",
    "center_vox_value = data_obj[center_i, center_j, center_k]\n",
    "print(center_vox_value, center_i, center_j, center_k)\n",
    "type(center_i)\n",
    "print(data_obj[100,200,100])"
   ]
  },
  {
   "cell_type": "code",
   "execution_count": 28,
   "id": "f46e546b",
   "metadata": {},
   "outputs": [],
   "source": [
    "#Extracting coordinates and their values\n",
    "rows = n_i*n_j*n_k\n",
    "vox_extract = np.empty([rows, 4])\n",
    "index = 0;\n",
    "for i in range(n_i):\n",
    "    for j in range(n_j):\n",
    "        for k in range(n_k):\n",
    "            vox_extract[index][0] = math.floor(i)\n",
    "            vox_extract[index][1] = math.floor(j)\n",
    "            vox_extract[index][2] = math.floor(k)\n",
    "            vox_extract[index][3] = data_obj[i,j,k]\n",
    "            index = index+1;\n",
    "df = pd.DataFrame(vox_extract)\n"
   ]
  },
  {
   "cell_type": "code",
   "execution_count": 29,
   "id": "aa36b9b1",
   "metadata": {},
   "outputs": [],
   "source": [
    "#Check df before saving to file\n",
    "df = df.astype({0:int,1:int,2:int})"
   ]
  },
  {
   "cell_type": "code",
   "execution_count": 30,
   "id": "06fb2100",
   "metadata": {},
   "outputs": [
    {
     "name": "stdout",
     "output_type": "stream",
     "text": [
      "            X    Y    Z  WMT_C_FP_L_int\n",
      "0           0    0    0             0.0\n",
      "1           0    0    1             0.0\n",
      "2           0    0    2             0.0\n",
      "3           0    0    3             0.0\n",
      "4           0    0    4             0.0\n",
      "...       ...  ...  ...             ...\n",
      "32284219  313  377  267             0.0\n",
      "32284220  313  377  268             0.0\n",
      "32284221  313  377  269             0.0\n",
      "32284222  313  377  270             0.0\n",
      "32284223  313  377  271             0.0\n",
      "\n",
      "[32284224 rows x 4 columns]\n",
      "----min----\n",
      "X                 0.0\n",
      "Y                 0.0\n",
      "Z                 0.0\n",
      "WMT_C_FP_L_int    0.0\n",
      "dtype: float64\n",
      "----max----\n",
      "X                 313.0\n",
      "Y                 377.0\n",
      "Z                 271.0\n",
      "WMT_C_FP_L_int      1.0\n",
      "dtype: float64\n",
      "Vox with zero value: 32199012\n"
     ]
    }
   ],
   "source": [
    "df = df.rename(columns={0:\"X\",1:\"Y\",2:\"Z\",3:key1})\n",
    "print(df)\n",
    "\n",
    "print(\"----min----\")\n",
    "print(df[[\"X\",\"Y\",\"Z\",key1]].min())\n",
    "print(\"----max----\")\n",
    "print(df[[\"X\",\"Y\",\"Z\",key1]].max())\n",
    "\n",
    "count = (df[key1] == 0).sum()\n",
    "print ('Vox with zero value:', count)"
   ]
  },
  {
   "cell_type": "code",
   "execution_count": 31,
   "id": "5361aa4a",
   "metadata": {
    "scrolled": true
   },
   "outputs": [],
   "source": [
    "#Saving data to a text file\n",
    "df.to_csv(filename_txt)"
   ]
  },
  {
   "cell_type": "code",
   "execution_count": 32,
   "id": "c15ed7b8",
   "metadata": {},
   "outputs": [
    {
     "data": {
      "text/plain": [
       "15"
      ]
     },
     "execution_count": 32,
     "metadata": {},
     "output_type": "execute_result"
    }
   ],
   "source": [
    "del df\n",
    "del vox_extract\n",
    "del data_obj\n",
    "gc.collect()"
   ]
  }
 ],
 "metadata": {
  "kernelspec": {
   "display_name": "Python 3 (ipykernel)",
   "language": "python",
   "name": "python3"
  },
  "language_info": {
   "codemirror_mode": {
    "name": "ipython",
    "version": 3
   },
   "file_extension": ".py",
   "mimetype": "text/x-python",
   "name": "python",
   "nbconvert_exporter": "python",
   "pygments_lexer": "ipython3",
   "version": "3.8.12"
  }
 },
 "nbformat": 4,
 "nbformat_minor": 5
}
